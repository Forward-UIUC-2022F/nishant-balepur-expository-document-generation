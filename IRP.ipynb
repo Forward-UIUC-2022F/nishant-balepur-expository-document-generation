{
 "cells": [
  {
   "cell_type": "markdown",
   "id": "94969b43",
   "metadata": {},
   "source": [
    "# Expository Document Generation"
   ]
  },
  {
   "cell_type": "markdown",
   "id": "703580af",
   "metadata": {},
   "source": [
    "![alternative text](./Model.png)"
   ]
  },
  {
   "cell_type": "code",
   "execution_count": 17,
   "id": "897a4860",
   "metadata": {},
   "outputs": [],
   "source": [
    "device = 'cuda'\n",
    "\n",
    "# input / output\n",
    "input_column_name = \"history_web_sentences_no_wiki\"\n",
    "output_dir = \"/home/balepur2/baseline_results/CS history history web no wiki/grp_abstractive.pkl\"\n",
    "dataset_name = 'nbalepur/college_desc_refined2'\n",
    "\n",
    "# model names\n",
    "paraphrase_model_name = 'nbalepur/college_with_desc_paraphraser'\n",
    "retriver_model_name = 'nbalepur/college_desc_bert'"
   ]
  },
  {
   "cell_type": "code",
   "execution_count": 31,
   "id": "aa498591",
   "metadata": {},
   "outputs": [
    {
     "name": "stderr",
     "output_type": "stream",
     "text": [
      "Using custom data configuration nbalepur--college_desc_refined2-b78d7a2eb9473c77\n",
      "Found cached dataset parquet (/home/balepur2/.cache/huggingface/datasets/nbalepur___parquet/nbalepur--college_desc_refined2-b78d7a2eb9473c77/0.0.0/2a3b91fbd88a2c90d1dbbb32b460cf621d31bd5b05b934492fdef7d8d6f236ec)\n",
      "100%|████████████████████████████████████████████████████████████████████████████████████████████████████████| 2/2 [00:00<00:00, 519.29it/s]\n"
     ]
    }
   ],
   "source": [
    "import datasets\n",
    "import numpy as np\n",
    "import nltk\n",
    "import torch\n",
    "import os\n",
    "os.environ[\"CUDA_VISIBLE_DEVICES\"]=\"2\"\n",
    "\n",
    "data = datasets.load_dataset(dataset_name)\n",
    "train_data, test_data = data['train'], data['test']"
   ]
  },
  {
   "cell_type": "markdown",
   "id": "cf1a5849",
   "metadata": {},
   "source": [
    "# Style Imitator"
   ]
  },
  {
   "cell_type": "code",
   "execution_count": 45,
   "id": "dc555d7d",
   "metadata": {},
   "outputs": [],
   "source": [
    "from transformers import AutoTokenizer, GPT2LMHeadModel\n",
    "tokenizer = AutoTokenizer.from_pretrained(\"nbalepur/gpt2_college_desc2\")\n",
    "model = GPT2LMHeadModel.from_pretrained(\"nbalepur/gpt2_college_desc2\").to(device)\n",
    "\n",
    "def model_max_length(config):\n",
    "    \"\"\"Returns the maximum generation length for the given model.\"\"\"\n",
    "    return getattr(config, \"n_positions\", None) or getattr(\n",
    "        config, \"max_position_embeddings\", None\n",
    "    )\n",
    "\n",
    "def generate(\n",
    "        n: int = 1,\n",
    "        prompt: str = \"\",\n",
    "        prepend_bos: bool = None,\n",
    "        min_length: int = None,\n",
    "        max_length: int = 256,\n",
    "        temperature: float = 0.7,\n",
    "        do_sample: bool = True,\n",
    "        return_as_list: bool = False,\n",
    "        seed: int = None,\n",
    "        pad_token_id: str = None,\n",
    "        schema: str = False,\n",
    "        normalize_key: bool = True,\n",
    "        use_cache: bool = True,\n",
    "        lstrip: bool = True,\n",
    "        nonempty_output: bool = True,\n",
    "        skip_special_tokens: bool = False,\n",
    "        **kwargs,\n",
    "    ):\n",
    "        \"\"\"\n",
    "        Generates texts using the stored Transformers model.\n",
    "        Currently generates text using the model's generate() function.\n",
    "        :param n: Numbers of texts to generate.\n",
    "        :param prompt: Text to force the generated text to start with\n",
    "        :param max_length: Maximum length for the generated text\n",
    "        :param temperature: Determines the \"creativity\" of the generated text.\n",
    "        The value range is different for each type of Transformer.\n",
    "        :param do_sample: Samples the text, which is what we want. If False,\n",
    "        the generated text will be the optimal prediction at each time,\n",
    "        and therefore deterministic.\n",
    "        :param return_as_list: Boolean which determine if text should be returned\n",
    "        as a list. If False, the generated texts will be print to console.\n",
    "        :param seed: A numeric seed which sets all randomness, allowing the\n",
    "        generate text to be reproducible if rerunning with same parameters\n",
    "        and model.\n",
    "        \"\"\"\n",
    "\n",
    "        prompt_text = prompt\n",
    "        prompt_tensors = tokenizer(text=prompt, return_tensors=\"pt\")\n",
    "\n",
    "        if prompt:\n",
    "            prompt_num_tokens = list(prompt_tensors[\"input_ids\"].shape)[1]\n",
    "            if prompt_num_tokens >= model_max_length(model.config):\n",
    "                return [None]\n",
    "\n",
    "        input_ids = (\n",
    "            prompt_tensors[\"input_ids\"].to(device) if prompt else None\n",
    "        )\n",
    "\n",
    "        if prepend_bos is None:\n",
    "            prepend_bos = getattr(model.config, \"line_by_line\", None)\n",
    "\n",
    "        if prepend_bos:\n",
    "            bos = torch.tensor([[tokenizer.bos_token_id]]).to(device)\n",
    "            if prompt:\n",
    "                input_ids = torch.cat((bos, input_ids), dim=1)\n",
    "            else:\n",
    "                input_ids = bos\n",
    "\n",
    "        if seed:\n",
    "            set_seed(seed)\n",
    "\n",
    "        if pad_token_id is None:\n",
    "            pad_token_id = getattr(tokenizer, \"pad_token_id\", None) or getattr(\n",
    "                tokenizer, \"eos_token_id\", None\n",
    "            )\n",
    "\n",
    "        # prevent an error from using a length greater than the model\n",
    "        gen_max_length = model_max_length(model.config)\n",
    "        max_length = min(gen_max_length, max_length)\n",
    "\n",
    "        while True:\n",
    "            outputs = model.generate(\n",
    "                input_ids=input_ids,\n",
    "                min_length=min_length,\n",
    "                max_length=max_length,\n",
    "                temperature=temperature,\n",
    "                do_sample=do_sample,\n",
    "                num_return_sequences=n,\n",
    "                pad_token_id=pad_token_id,\n",
    "                use_cache=use_cache,\n",
    "                **kwargs,\n",
    "            )\n",
    "\n",
    "            # Schema token handling\n",
    "            if schema:\n",
    "                schema_tokens = getattr(model.config, \"schema_tokens\")\n",
    "                schema_return = getattr(model.config, \"schema_return\", None)\n",
    "                schema_tokens_enc = tokenizer(text=schema_tokens)[\"input_ids\"]\n",
    "\n",
    "                nonalphanum_pattern = re.compile(r\"[\\W_]+\", re.UNICODE)\n",
    "\n",
    "                outputs = outputs.tolist()\n",
    "                gen_texts = []\n",
    "                for output in outputs:\n",
    "                    gen_text_dict = {}\n",
    "\n",
    "                    # Get indices of each schema token within the text\n",
    "                    schema_token_indices = [\n",
    "                        (schema_tokens[i], find_index_of_subset(output, token_enc))\n",
    "                        for i, token_enc in enumerate(schema_tokens_enc)\n",
    "                    ]\n",
    "\n",
    "                    schema_token_indices.sort(key=lambda x: x[1])\n",
    "\n",
    "                    for i, token_tuple in enumerate(schema_token_indices):\n",
    "                        start_index = token_tuple[1]\n",
    "                        key = (\n",
    "                            nonalphanum_pattern.sub(\"\", token_tuple[0])\n",
    "                            if normalize_key\n",
    "                            else token_tuple[0]\n",
    "                        )\n",
    "                        if start_index == -1:\n",
    "                            gen_text_dict[key] = \"\"\n",
    "                        else:\n",
    "                            end_index = (\n",
    "                                schema_token_indices[i + 1][1] - 1\n",
    "                                if i + 1 < len(schema_token_indices)\n",
    "                                else None\n",
    "                            )\n",
    "\n",
    "                            gen_text_dict[key] = tokenizer.decode(\n",
    "                                output[start_index:end_index], skip_special_tokens=True\n",
    "                            )\n",
    "\n",
    "                    # remove fields not in schema_return\n",
    "                    if schema_return:\n",
    "                        keys = gen_text_dict.keys()\n",
    "                        if len(schema_return) == 1:\n",
    "                            gen_text_dict = gen_text_dict[schema_return[0]]\n",
    "                        for key in keys:\n",
    "                            if key not in schema_return:\n",
    "                                gen_text_dict.pop(key, None)\n",
    "\n",
    "                    gen_texts.append(gen_text_dict)\n",
    "\n",
    "                # Reset seed if used\n",
    "                if seed:\n",
    "                    reset_seed()\n",
    "\n",
    "                if not return_as_list:\n",
    "                    print(*gen_texts, sep=\"\\n\" + \"=\" * 10 + \"\\n\")\n",
    "                    break\n",
    "                else:\n",
    "                    if n > 1:\n",
    "                        return gen_texts\n",
    "                    else:\n",
    "                        return gen_texts[0]\n",
    "\n",
    "            # Typical use case\n",
    "            else:\n",
    "                gen_texts = tokenizer.batch_decode(\n",
    "                    outputs, skip_special_tokens=skip_special_tokens\n",
    "                )\n",
    "\n",
    "                # Handle stripping tokenization spaces w/ regex\n",
    "                if lstrip:\n",
    "                    gen_texts = [re.sub(r\"^\\s+\", \"\", text) for text in gen_texts]\n",
    "\n",
    "                if nonempty_output:\n",
    "                    if min_length:\n",
    "                        gen_texts = list(\n",
    "                            filter(lambda x: len(x) > min_length, gen_texts)\n",
    "                        )\n",
    "                    else:\n",
    "                        gen_texts = list(filter(lambda x: len(x) > 0, gen_texts))\n",
    "\n",
    "                # if there is no generated text after cleanup, try again.\n",
    "                if len(gen_texts) == 0:\n",
    "                    continue\n",
    "\n",
    "                # Reset seed if used\n",
    "                if seed:\n",
    "                    reset_seed()\n",
    "\n",
    "                if not return_as_list:\n",
    "                    if prompt:\n",
    "                        # Bold the prompt if printing to console\n",
    "                        gen_texts = [\n",
    "                            text.replace(prompt_text, f\"\\033[1m{prompt_text}\\033[0m\", 1)\n",
    "                            for text in gen_texts\n",
    "                        ]\n",
    "\n",
    "                    if n > 1:\n",
    "                        print(*gen_texts, sep=\"\\n\" + \"=\" * 10 + \"\\n\")\n",
    "                    else:\n",
    "                        print(gen_texts[0])\n",
    "                    break\n",
    "                else:\n",
    "                    return gen_texts\n",
    "                \n",
    "import re\n",
    "def get_next_style_sentence(prompt, output, get_next_sentence):\n",
    "    # clean text\n",
    "    text = re.sub('\\n+','\\n', output)\n",
    "    prompt = re.sub('\\n+','\\n', prompt)\n",
    "    \n",
    "    # format sentences and paragraphs\n",
    "    num_prompt_sentences = sum([len([s for s in nltk.sent_tokenize(p) if len(s) > 0]) for p in prompt.split(\"\\n\")])\n",
    "    paragraphs = text.split(\"\\n\")\n",
    "    paragraph_sents = [[s for s in nltk.sent_tokenize(p) if len(s) > 0] for p in paragraphs]\n",
    "    \n",
    "    # get the next paragraph/sentence\n",
    "    sent_itr, paragraph_itr = 0, 0\n",
    "    for _ in range(num_prompt_sentences if get_next_sentence else num_prompt_sentences - 1):\n",
    "        \n",
    "        if sent_itr < len(paragraph_sents[paragraph_itr]) - 1:\n",
    "            sent_itr += 1\n",
    "        else:\n",
    "            sent_itr = 0\n",
    "            paragraph_itr += 1\n",
    "    \n",
    "    if paragraph_itr == len(paragraph_sents):\n",
    "        print(output)\n",
    "        print(\"ended due to out of bounds\")\n",
    "        return \"\", True, False\n",
    "    \n",
    "    if len(paragraph_sents[paragraph_itr]) == 0:\n",
    "        print(\"ended with new para\")\n",
    "        return \"\", False, True\n",
    "    \n",
    "    # parse the final result\n",
    "    return_sent = paragraph_sents[paragraph_itr][sent_itr]\n",
    "    is_new_paragraph = (sent_itr == 0 and get_next_sentence)\n",
    "\n",
    "    should_stop = False\n",
    "    if \"<|endoftext|>\" in return_sent:\n",
    "        return_sent = return_sent.replace(\"<|endoftext|>\", \"\")\n",
    "        should_stop = get_next_sentence\n",
    "        \n",
    "    print(\"ended normally\")\n",
    "    \n",
    "    # return the next sentence, whether we should stop, and if this is a new paragraph\n",
    "    return return_sent, should_stop, is_new_paragraph\n",
    "\n",
    "def get_next_style_sentence(prompt, output, get_next_sentence):\n",
    "    \n",
    "    prompt = ''.join(tokenizer.batch_decode(tokenizer(prompt).input_ids))\n",
    "    output = ''.join(tokenizer.batch_decode(tokenizer(output).input_ids))\n",
    "    \n",
    "    if prompt not in output:\n",
    "        print(prompt)\n",
    "        print(\"\\n\\n\")\n",
    "        print(output)\n",
    "\n",
    "    suffix = output[output.index(prompt) + len(prompt):]\n",
    "    \n",
    "    if suffix == \"<|endoftext|>\":\n",
    "        print(\"end of text early\")\n",
    "        return \"\", True, False \n",
    "    \n",
    "    next_sentence = nltk.sent_tokenize(suffix)[0].replace(\"\\n\\n\", \"\\n\")\n",
    "    \n",
    "    if not get_next_sentence:\n",
    "        next_sentence = prompt + next_sentence\n",
    "        \n",
    "    should_stop, is_new_paragraph = False, False\n",
    "    if \"\\n\" in next_sentence:\n",
    "        is_new_paragraph = True\n",
    "        next_sentence = next_sentence.replace(\"\\n\", \"\")\n",
    "    if \"<|endoftext|>\" in next_sentence:\n",
    "        should_stop = True\n",
    "        next_sentence = next_sentence.replace(\"<|endoftext|>\", \"\")\n",
    "    \n",
    "    print(f\"ended normally | should stop: {should_stop} | new paragraph: {is_new_paragraph}\")\n",
    "    return next_sentence, should_stop, is_new_paragraph"
   ]
  },
  {
   "cell_type": "code",
   "execution_count": 49,
   "id": "0ac38a2a",
   "metadata": {},
   "outputs": [
    {
     "name": "stdout",
     "output_type": "stream",
     "text": [
      "Prompt: UIUC is a private institution founded in 1998.\n",
      "Next Sentence:  It has a total of 9,544 students (fall 2021), its location is suburban, and the campus is 721 acres.\n"
     ]
    }
   ],
   "source": [
    "sent = \"UIUC is a private institution founded in 1998.\"\n",
    "\n",
    "curr_prompt = sent\n",
    "gen_text = generate(prompt = curr_prompt, max_length = 512, return_as_list = True)[0]\n",
    "style_cand, should_stop, is_new_paragraph = get_next_style_sentence(curr_prompt, gen_text, True)\n",
    "print(f'Prompt: {curr_prompt}\\nNext Sentence: {style_cand}')"
   ]
  },
  {
   "cell_type": "markdown",
   "id": "09afc0f2",
   "metadata": {},
   "source": [
    "# Retriever"
   ]
  },
  {
   "cell_type": "code",
   "execution_count": 33,
   "id": "f7c8ba64",
   "metadata": {},
   "outputs": [],
   "source": [
    "from transformers import AutoTokenizer, AutoModelForSequenceClassification\n",
    "retriever_tokenizer = AutoTokenizer.from_pretrained(\"distilbert-base-uncased\")\n",
    "retriever_model = AutoModelForSequenceClassification.from_pretrained(retriver_model_name, num_labels=max([len(nltk.sent_tokenize(sent)) for sent in train_data['output_aug']])).to('cuda')\n",
    "\n",
    "def get_retriever_embedding(sent):\n",
    "    tok = retriever_tokenizer(sent, return_tensors='pt', truncation=True).input_ids.to('cuda')\n",
    "    return retriever_model(tok, output_hidden_states=True).hidden_states[-1].mean(axis = 1).to('cpu').detach()"
   ]
  },
  {
   "cell_type": "code",
   "execution_count": 35,
   "id": "753f4328",
   "metadata": {},
   "outputs": [],
   "source": [
    "web_sentences = list(set(test_data['web_sentences_no_desc'][0]))\n",
    "web_sentences_emb = torch.cat([get_retriever_embedding(sent) for sent in web_sentences])\n",
    "sent_emb = get_retriever_embedding(sent)"
   ]
  },
  {
   "cell_type": "code",
   "execution_count": 43,
   "id": "f876f14b",
   "metadata": {},
   "outputs": [
    {
     "name": "stdout",
     "output_type": "stream",
     "text": [
      "- UNLV was officially founded by the Nevada Board of Regents as the Southern Division of the University of Nevada on September 10, 1957.\n",
      "- The Lied Institute for Real Estate Studies was established in 1989.\n",
      "- In 1969, with the board of regents approval, the university adopted its current name.\n",
      "- It was formerly part of the University of Nevada from 1957 to 1969.\n",
      "-  The University of Nevada, Las Vegas is a large public university located on an urban campus in Las Vegas, Nevada.\n",
      "- Together with UNLV, CSUN founded an on campus preschool in 1974 as part of the College of Education.\n",
      "- In 1954, the Nevada Board of Regents founded the Southern Regional Division of the University of Nevada, popularly known as Nevada Southern.\n",
      "- The Black Mountain Institute BMI is a literary center at the university.\n",
      "- In 1969, the board of regents approved the name University of Nevada, Las Vegas and the abbreviation UNLV.\n",
      "- From 1957 until 1969, it was a component of the University of Nevada.\n"
     ]
    }
   ],
   "source": [
    "fact_sims = (web_sentences_emb @ sent_emb.T).squeeze(1)\n",
    "for idx in torch.argsort(fact_sims, descending=True)[:10]:\n",
    "    print('-', web_sentences[idx])"
   ]
  },
  {
   "cell_type": "code",
   "execution_count": 26,
   "id": "ed02763a",
   "metadata": {},
   "outputs": [
    {
     "data": {
      "text/html": [
       "<table width: 100%><div style=\"border-top: 1px solid; margin-top: 5px;             padding-top: 5px; display: inline-block\"><b>Legend: </b><span style=\"display: inline-block; width: 10px; height: 10px;                 border: 1px solid; background-color:                 hsl(0, 75%, 60%)\"></span> Negative  <span style=\"display: inline-block; width: 10px; height: 10px;                 border: 1px solid; background-color:                 hsl(0, 75%, 100%)\"></span> Neutral  <span style=\"display: inline-block; width: 10px; height: 10px;                 border: 1px solid; background-color:                 hsl(120, 75%, 50%)\"></span> Positive  </div><tr><th>True Label</th><th>Predicted Label</th><th>Attribution Label</th><th>Attribution Score</th><th>Word Importance</th><tr><td><text style=\"padding-right:2em\"><b>n/a</b></text></td><td><text style=\"padding-right:2em\"><b> (0.88)</b></text></td><td><text style=\"padding-right:2em\"><b>LABEL_0</b></text></td><td><text style=\"padding-right:2em\"><b>2.79</b></text></td><td><mark style=\"background-color: hsl(0, 75%, 100%); opacity:1.0;                     line-height:1.75\"><font color=\"black\"> [CLS]                    </font></mark><mark style=\"background-color: hsl(120, 75%, 91%); opacity:1.0;                     line-height:1.75\"><font color=\"black\"> ui                    </font></mark><mark style=\"background-color: hsl(120, 75%, 91%); opacity:1.0;                     line-height:1.75\"><font color=\"black\"> ##uc                    </font></mark><mark style=\"background-color: hsl(120, 75%, 100%); opacity:1.0;                     line-height:1.75\"><font color=\"black\"> is                    </font></mark><mark style=\"background-color: hsl(120, 75%, 89%); opacity:1.0;                     line-height:1.75\"><font color=\"black\"> a                    </font></mark><mark style=\"background-color: hsl(120, 75%, 85%); opacity:1.0;                     line-height:1.75\"><font color=\"black\"> private                    </font></mark><mark style=\"background-color: hsl(120, 75%, 74%); opacity:1.0;                     line-height:1.75\"><font color=\"black\"> institution                    </font></mark><mark style=\"background-color: hsl(120, 75%, 83%); opacity:1.0;                     line-height:1.75\"><font color=\"black\"> founded                    </font></mark><mark style=\"background-color: hsl(120, 75%, 75%); opacity:1.0;                     line-height:1.75\"><font color=\"black\"> in                    </font></mark><mark style=\"background-color: hsl(120, 75%, 90%); opacity:1.0;                     line-height:1.75\"><font color=\"black\"> 1998                    </font></mark><mark style=\"background-color: hsl(120, 75%, 86%); opacity:1.0;                     line-height:1.75\"><font color=\"black\"> .                    </font></mark><mark style=\"background-color: hsl(0, 75%, 100%); opacity:1.0;                     line-height:1.75\"><font color=\"black\"> [SEP]                    </font></mark></td><tr><tr><td><text style=\"padding-right:2em\"><b>n/a</b></text></td><td><text style=\"padding-right:2em\"><b> (0.03)</b></text></td><td><text style=\"padding-right:2em\"><b>LABEL_1</b></text></td><td><text style=\"padding-right:2em\"><b>-2.51</b></text></td><td><mark style=\"background-color: hsl(0, 75%, 100%); opacity:1.0;                     line-height:1.75\"><font color=\"black\"> [CLS]                    </font></mark><mark style=\"background-color: hsl(0, 75%, 91%); opacity:1.0;                     line-height:1.75\"><font color=\"black\"> ui                    </font></mark><mark style=\"background-color: hsl(0, 75%, 91%); opacity:1.0;                     line-height:1.75\"><font color=\"black\"> ##uc                    </font></mark><mark style=\"background-color: hsl(120, 75%, 90%); opacity:1.0;                     line-height:1.75\"><font color=\"black\"> is                    </font></mark><mark style=\"background-color: hsl(0, 75%, 98%); opacity:1.0;                     line-height:1.75\"><font color=\"black\"> a                    </font></mark><mark style=\"background-color: hsl(0, 75%, 90%); opacity:1.0;                     line-height:1.75\"><font color=\"black\"> private                    </font></mark><mark style=\"background-color: hsl(0, 75%, 80%); opacity:1.0;                     line-height:1.75\"><font color=\"black\"> institution                    </font></mark><mark style=\"background-color: hsl(0, 75%, 85%); opacity:1.0;                     line-height:1.75\"><font color=\"black\"> founded                    </font></mark><mark style=\"background-color: hsl(0, 75%, 87%); opacity:1.0;                     line-height:1.75\"><font color=\"black\"> in                    </font></mark><mark style=\"background-color: hsl(0, 75%, 90%); opacity:1.0;                     line-height:1.75\"><font color=\"black\"> 1998                    </font></mark><mark style=\"background-color: hsl(0, 75%, 84%); opacity:1.0;                     line-height:1.75\"><font color=\"black\"> .                    </font></mark><mark style=\"background-color: hsl(0, 75%, 100%); opacity:1.0;                     line-height:1.75\"><font color=\"black\"> [SEP]                    </font></mark></td><tr><tr><td><text style=\"padding-right:2em\"><b>n/a</b></text></td><td><text style=\"padding-right:2em\"><b> (0.03)</b></text></td><td><text style=\"padding-right:2em\"><b>LABEL_2</b></text></td><td><text style=\"padding-right:2em\"><b>-2.54</b></text></td><td><mark style=\"background-color: hsl(0, 75%, 100%); opacity:1.0;                     line-height:1.75\"><font color=\"black\"> [CLS]                    </font></mark><mark style=\"background-color: hsl(0, 75%, 95%); opacity:1.0;                     line-height:1.75\"><font color=\"black\"> ui                    </font></mark><mark style=\"background-color: hsl(0, 75%, 95%); opacity:1.0;                     line-height:1.75\"><font color=\"black\"> ##uc                    </font></mark><mark style=\"background-color: hsl(120, 75%, 98%); opacity:1.0;                     line-height:1.75\"><font color=\"black\"> is                    </font></mark><mark style=\"background-color: hsl(0, 75%, 97%); opacity:1.0;                     line-height:1.75\"><font color=\"black\"> a                    </font></mark><mark style=\"background-color: hsl(0, 75%, 87%); opacity:1.0;                     line-height:1.75\"><font color=\"black\"> private                    </font></mark><mark style=\"background-color: hsl(0, 75%, 78%); opacity:1.0;                     line-height:1.75\"><font color=\"black\"> institution                    </font></mark><mark style=\"background-color: hsl(0, 75%, 86%); opacity:1.0;                     line-height:1.75\"><font color=\"black\"> founded                    </font></mark><mark style=\"background-color: hsl(0, 75%, 79%); opacity:1.0;                     line-height:1.75\"><font color=\"black\"> in                    </font></mark><mark style=\"background-color: hsl(0, 75%, 90%); opacity:1.0;                     line-height:1.75\"><font color=\"black\"> 1998                    </font></mark><mark style=\"background-color: hsl(0, 75%, 95%); opacity:1.0;                     line-height:1.75\"><font color=\"black\"> .                    </font></mark><mark style=\"background-color: hsl(0, 75%, 100%); opacity:1.0;                     line-height:1.75\"><font color=\"black\"> [SEP]                    </font></mark></td><tr><tr><td><text style=\"padding-right:2em\"><b>n/a</b></text></td><td><text style=\"padding-right:2em\"><b> (0.03)</b></text></td><td><text style=\"padding-right:2em\"><b>LABEL_3</b></text></td><td><text style=\"padding-right:2em\"><b>-2.79</b></text></td><td><mark style=\"background-color: hsl(0, 75%, 100%); opacity:1.0;                     line-height:1.75\"><font color=\"black\"> [CLS]                    </font></mark><mark style=\"background-color: hsl(0, 75%, 96%); opacity:1.0;                     line-height:1.75\"><font color=\"black\"> ui                    </font></mark><mark style=\"background-color: hsl(0, 75%, 96%); opacity:1.0;                     line-height:1.75\"><font color=\"black\"> ##uc                    </font></mark><mark style=\"background-color: hsl(0, 75%, 90%); opacity:1.0;                     line-height:1.75\"><font color=\"black\"> is                    </font></mark><mark style=\"background-color: hsl(0, 75%, 85%); opacity:1.0;                     line-height:1.75\"><font color=\"black\"> a                    </font></mark><mark style=\"background-color: hsl(0, 75%, 90%); opacity:1.0;                     line-height:1.75\"><font color=\"black\"> private                    </font></mark><mark style=\"background-color: hsl(0, 75%, 84%); opacity:1.0;                     line-height:1.75\"><font color=\"black\"> institution                    </font></mark><mark style=\"background-color: hsl(0, 75%, 90%); opacity:1.0;                     line-height:1.75\"><font color=\"black\"> founded                    </font></mark><mark style=\"background-color: hsl(0, 75%, 76%); opacity:1.0;                     line-height:1.75\"><font color=\"black\"> in                    </font></mark><mark style=\"background-color: hsl(0, 75%, 94%); opacity:1.0;                     line-height:1.75\"><font color=\"black\"> 1998                    </font></mark><mark style=\"background-color: hsl(0, 75%, 92%); opacity:1.0;                     line-height:1.75\"><font color=\"black\"> .                    </font></mark><mark style=\"background-color: hsl(0, 75%, 100%); opacity:1.0;                     line-height:1.75\"><font color=\"black\"> [SEP]                    </font></mark></td><tr><tr><td><text style=\"padding-right:2em\"><b>n/a</b></text></td><td><text style=\"padding-right:2em\"><b> (0.03)</b></text></td><td><text style=\"padding-right:2em\"><b>LABEL_4</b></text></td><td><text style=\"padding-right:2em\"><b>-2.84</b></text></td><td><mark style=\"background-color: hsl(0, 75%, 100%); opacity:1.0;                     line-height:1.75\"><font color=\"black\"> [CLS]                    </font></mark><mark style=\"background-color: hsl(0, 75%, 94%); opacity:1.0;                     line-height:1.75\"><font color=\"black\"> ui                    </font></mark><mark style=\"background-color: hsl(0, 75%, 94%); opacity:1.0;                     line-height:1.75\"><font color=\"black\"> ##uc                    </font></mark><mark style=\"background-color: hsl(0, 75%, 94%); opacity:1.0;                     line-height:1.75\"><font color=\"black\"> is                    </font></mark><mark style=\"background-color: hsl(0, 75%, 84%); opacity:1.0;                     line-height:1.75\"><font color=\"black\"> a                    </font></mark><mark style=\"background-color: hsl(0, 75%, 88%); opacity:1.0;                     line-height:1.75\"><font color=\"black\"> private                    </font></mark><mark style=\"background-color: hsl(0, 75%, 79%); opacity:1.0;                     line-height:1.75\"><font color=\"black\"> institution                    </font></mark><mark style=\"background-color: hsl(0, 75%, 89%); opacity:1.0;                     line-height:1.75\"><font color=\"black\"> founded                    </font></mark><mark style=\"background-color: hsl(0, 75%, 81%); opacity:1.0;                     line-height:1.75\"><font color=\"black\"> in                    </font></mark><mark style=\"background-color: hsl(0, 75%, 96%); opacity:1.0;                     line-height:1.75\"><font color=\"black\"> 1998                    </font></mark><mark style=\"background-color: hsl(0, 75%, 91%); opacity:1.0;                     line-height:1.75\"><font color=\"black\"> .                    </font></mark><mark style=\"background-color: hsl(0, 75%, 100%); opacity:1.0;                     line-height:1.75\"><font color=\"black\"> [SEP]                    </font></mark></td><tr></table>"
      ],
      "text/plain": [
       "<IPython.core.display.HTML object>"
      ]
     },
     "metadata": {},
     "output_type": "display_data"
    },
    {
     "data": {
      "text/html": [
       "<table width: 100%><div style=\"border-top: 1px solid; margin-top: 5px;             padding-top: 5px; display: inline-block\"><b>Legend: </b><span style=\"display: inline-block; width: 10px; height: 10px;                 border: 1px solid; background-color:                 hsl(0, 75%, 60%)\"></span> Negative  <span style=\"display: inline-block; width: 10px; height: 10px;                 border: 1px solid; background-color:                 hsl(0, 75%, 100%)\"></span> Neutral  <span style=\"display: inline-block; width: 10px; height: 10px;                 border: 1px solid; background-color:                 hsl(120, 75%, 50%)\"></span> Positive  </div><tr><th>n/a</th><th>Prediction Score</th><th>Attribution Label</th><th>Attribution Score</th><th>Word Importance</th><tr><td><text style=\"padding-right:2em\"><b>n/a</b></text></td><td><text style=\"padding-right:2em\"><b> (0.88)</b></text></td><td><text style=\"padding-right:2em\"><b>LABEL_0</b></text></td><td><text style=\"padding-right:2em\"><b>2.79</b></text></td><td><mark style=\"background-color: hsl(0, 75%, 100%); opacity:1.0;                     line-height:1.75\"><font color=\"black\"> [CLS]                    </font></mark><mark style=\"background-color: hsl(120, 75%, 91%); opacity:1.0;                     line-height:1.75\"><font color=\"black\"> ui                    </font></mark><mark style=\"background-color: hsl(120, 75%, 91%); opacity:1.0;                     line-height:1.75\"><font color=\"black\"> ##uc                    </font></mark><mark style=\"background-color: hsl(120, 75%, 100%); opacity:1.0;                     line-height:1.75\"><font color=\"black\"> is                    </font></mark><mark style=\"background-color: hsl(120, 75%, 89%); opacity:1.0;                     line-height:1.75\"><font color=\"black\"> a                    </font></mark><mark style=\"background-color: hsl(120, 75%, 85%); opacity:1.0;                     line-height:1.75\"><font color=\"black\"> private                    </font></mark><mark style=\"background-color: hsl(120, 75%, 74%); opacity:1.0;                     line-height:1.75\"><font color=\"black\"> institution                    </font></mark><mark style=\"background-color: hsl(120, 75%, 83%); opacity:1.0;                     line-height:1.75\"><font color=\"black\"> founded                    </font></mark><mark style=\"background-color: hsl(120, 75%, 75%); opacity:1.0;                     line-height:1.75\"><font color=\"black\"> in                    </font></mark><mark style=\"background-color: hsl(120, 75%, 90%); opacity:1.0;                     line-height:1.75\"><font color=\"black\"> 1998                    </font></mark><mark style=\"background-color: hsl(120, 75%, 86%); opacity:1.0;                     line-height:1.75\"><font color=\"black\"> .                    </font></mark><mark style=\"background-color: hsl(0, 75%, 100%); opacity:1.0;                     line-height:1.75\"><font color=\"black\"> [SEP]                    </font></mark></td><tr><tr><td><text style=\"padding-right:2em\"><b>n/a</b></text></td><td><text style=\"padding-right:2em\"><b> (0.03)</b></text></td><td><text style=\"padding-right:2em\"><b>LABEL_1</b></text></td><td><text style=\"padding-right:2em\"><b>-2.51</b></text></td><td><mark style=\"background-color: hsl(0, 75%, 100%); opacity:1.0;                     line-height:1.75\"><font color=\"black\"> [CLS]                    </font></mark><mark style=\"background-color: hsl(0, 75%, 91%); opacity:1.0;                     line-height:1.75\"><font color=\"black\"> ui                    </font></mark><mark style=\"background-color: hsl(0, 75%, 91%); opacity:1.0;                     line-height:1.75\"><font color=\"black\"> ##uc                    </font></mark><mark style=\"background-color: hsl(120, 75%, 90%); opacity:1.0;                     line-height:1.75\"><font color=\"black\"> is                    </font></mark><mark style=\"background-color: hsl(0, 75%, 98%); opacity:1.0;                     line-height:1.75\"><font color=\"black\"> a                    </font></mark><mark style=\"background-color: hsl(0, 75%, 90%); opacity:1.0;                     line-height:1.75\"><font color=\"black\"> private                    </font></mark><mark style=\"background-color: hsl(0, 75%, 80%); opacity:1.0;                     line-height:1.75\"><font color=\"black\"> institution                    </font></mark><mark style=\"background-color: hsl(0, 75%, 85%); opacity:1.0;                     line-height:1.75\"><font color=\"black\"> founded                    </font></mark><mark style=\"background-color: hsl(0, 75%, 87%); opacity:1.0;                     line-height:1.75\"><font color=\"black\"> in                    </font></mark><mark style=\"background-color: hsl(0, 75%, 90%); opacity:1.0;                     line-height:1.75\"><font color=\"black\"> 1998                    </font></mark><mark style=\"background-color: hsl(0, 75%, 84%); opacity:1.0;                     line-height:1.75\"><font color=\"black\"> .                    </font></mark><mark style=\"background-color: hsl(0, 75%, 100%); opacity:1.0;                     line-height:1.75\"><font color=\"black\"> [SEP]                    </font></mark></td><tr><tr><td><text style=\"padding-right:2em\"><b>n/a</b></text></td><td><text style=\"padding-right:2em\"><b> (0.03)</b></text></td><td><text style=\"padding-right:2em\"><b>LABEL_2</b></text></td><td><text style=\"padding-right:2em\"><b>-2.54</b></text></td><td><mark style=\"background-color: hsl(0, 75%, 100%); opacity:1.0;                     line-height:1.75\"><font color=\"black\"> [CLS]                    </font></mark><mark style=\"background-color: hsl(0, 75%, 95%); opacity:1.0;                     line-height:1.75\"><font color=\"black\"> ui                    </font></mark><mark style=\"background-color: hsl(0, 75%, 95%); opacity:1.0;                     line-height:1.75\"><font color=\"black\"> ##uc                    </font></mark><mark style=\"background-color: hsl(120, 75%, 98%); opacity:1.0;                     line-height:1.75\"><font color=\"black\"> is                    </font></mark><mark style=\"background-color: hsl(0, 75%, 97%); opacity:1.0;                     line-height:1.75\"><font color=\"black\"> a                    </font></mark><mark style=\"background-color: hsl(0, 75%, 87%); opacity:1.0;                     line-height:1.75\"><font color=\"black\"> private                    </font></mark><mark style=\"background-color: hsl(0, 75%, 78%); opacity:1.0;                     line-height:1.75\"><font color=\"black\"> institution                    </font></mark><mark style=\"background-color: hsl(0, 75%, 86%); opacity:1.0;                     line-height:1.75\"><font color=\"black\"> founded                    </font></mark><mark style=\"background-color: hsl(0, 75%, 79%); opacity:1.0;                     line-height:1.75\"><font color=\"black\"> in                    </font></mark><mark style=\"background-color: hsl(0, 75%, 90%); opacity:1.0;                     line-height:1.75\"><font color=\"black\"> 1998                    </font></mark><mark style=\"background-color: hsl(0, 75%, 95%); opacity:1.0;                     line-height:1.75\"><font color=\"black\"> .                    </font></mark><mark style=\"background-color: hsl(0, 75%, 100%); opacity:1.0;                     line-height:1.75\"><font color=\"black\"> [SEP]                    </font></mark></td><tr><tr><td><text style=\"padding-right:2em\"><b>n/a</b></text></td><td><text style=\"padding-right:2em\"><b> (0.03)</b></text></td><td><text style=\"padding-right:2em\"><b>LABEL_3</b></text></td><td><text style=\"padding-right:2em\"><b>-2.79</b></text></td><td><mark style=\"background-color: hsl(0, 75%, 100%); opacity:1.0;                     line-height:1.75\"><font color=\"black\"> [CLS]                    </font></mark><mark style=\"background-color: hsl(0, 75%, 96%); opacity:1.0;                     line-height:1.75\"><font color=\"black\"> ui                    </font></mark><mark style=\"background-color: hsl(0, 75%, 96%); opacity:1.0;                     line-height:1.75\"><font color=\"black\"> ##uc                    </font></mark><mark style=\"background-color: hsl(0, 75%, 90%); opacity:1.0;                     line-height:1.75\"><font color=\"black\"> is                    </font></mark><mark style=\"background-color: hsl(0, 75%, 85%); opacity:1.0;                     line-height:1.75\"><font color=\"black\"> a                    </font></mark><mark style=\"background-color: hsl(0, 75%, 90%); opacity:1.0;                     line-height:1.75\"><font color=\"black\"> private                    </font></mark><mark style=\"background-color: hsl(0, 75%, 84%); opacity:1.0;                     line-height:1.75\"><font color=\"black\"> institution                    </font></mark><mark style=\"background-color: hsl(0, 75%, 90%); opacity:1.0;                     line-height:1.75\"><font color=\"black\"> founded                    </font></mark><mark style=\"background-color: hsl(0, 75%, 76%); opacity:1.0;                     line-height:1.75\"><font color=\"black\"> in                    </font></mark><mark style=\"background-color: hsl(0, 75%, 94%); opacity:1.0;                     line-height:1.75\"><font color=\"black\"> 1998                    </font></mark><mark style=\"background-color: hsl(0, 75%, 92%); opacity:1.0;                     line-height:1.75\"><font color=\"black\"> .                    </font></mark><mark style=\"background-color: hsl(0, 75%, 100%); opacity:1.0;                     line-height:1.75\"><font color=\"black\"> [SEP]                    </font></mark></td><tr><tr><td><text style=\"padding-right:2em\"><b>n/a</b></text></td><td><text style=\"padding-right:2em\"><b> (0.03)</b></text></td><td><text style=\"padding-right:2em\"><b>LABEL_4</b></text></td><td><text style=\"padding-right:2em\"><b>-2.84</b></text></td><td><mark style=\"background-color: hsl(0, 75%, 100%); opacity:1.0;                     line-height:1.75\"><font color=\"black\"> [CLS]                    </font></mark><mark style=\"background-color: hsl(0, 75%, 94%); opacity:1.0;                     line-height:1.75\"><font color=\"black\"> ui                    </font></mark><mark style=\"background-color: hsl(0, 75%, 94%); opacity:1.0;                     line-height:1.75\"><font color=\"black\"> ##uc                    </font></mark><mark style=\"background-color: hsl(0, 75%, 94%); opacity:1.0;                     line-height:1.75\"><font color=\"black\"> is                    </font></mark><mark style=\"background-color: hsl(0, 75%, 84%); opacity:1.0;                     line-height:1.75\"><font color=\"black\"> a                    </font></mark><mark style=\"background-color: hsl(0, 75%, 88%); opacity:1.0;                     line-height:1.75\"><font color=\"black\"> private                    </font></mark><mark style=\"background-color: hsl(0, 75%, 79%); opacity:1.0;                     line-height:1.75\"><font color=\"black\"> institution                    </font></mark><mark style=\"background-color: hsl(0, 75%, 89%); opacity:1.0;                     line-height:1.75\"><font color=\"black\"> founded                    </font></mark><mark style=\"background-color: hsl(0, 75%, 81%); opacity:1.0;                     line-height:1.75\"><font color=\"black\"> in                    </font></mark><mark style=\"background-color: hsl(0, 75%, 96%); opacity:1.0;                     line-height:1.75\"><font color=\"black\"> 1998                    </font></mark><mark style=\"background-color: hsl(0, 75%, 91%); opacity:1.0;                     line-height:1.75\"><font color=\"black\"> .                    </font></mark><mark style=\"background-color: hsl(0, 75%, 100%); opacity:1.0;                     line-height:1.75\"><font color=\"black\"> [SEP]                    </font></mark></td><tr></table>"
      ],
      "text/plain": [
       "<IPython.core.display.HTML object>"
      ]
     },
     "execution_count": 26,
     "metadata": {},
     "output_type": "execute_result"
    }
   ],
   "source": [
    "from transformers_interpret import MultiLabelClassificationExplainer\n",
    "cls_explainer = MultiLabelClassificationExplainer(retriever_model, retriever_tokenizer)\n",
    "word_attributions = cls_explainer(sent)\n",
    "cls_explainer.visualize()"
   ]
  },
  {
   "cell_type": "markdown",
   "id": "7d841516",
   "metadata": {},
   "source": [
    "# Paraphraser"
   ]
  },
  {
   "cell_type": "code",
   "execution_count": 11,
   "id": "301c1e70",
   "metadata": {},
   "outputs": [],
   "source": [
    "from transformers import AutoModelForSeq2SeqLM, AutoTokenizer\n",
    "paraphrase_model = AutoModelForSeq2SeqLM.from_pretrained(paraphrase_model_name).to('cuda')\n",
    "paraphrase_tokenizer = AutoTokenizer.from_pretrained('facebook/bart-large')\n",
    "\n",
    "special_tokens_dict = {'additional_special_tokens': ['<|style|>', '<|fact|>']}\n",
    "num_added_toks = paraphrase_tokenizer.add_special_tokens(special_tokens_dict)\n",
    "paraphrase_model.resize_token_embeddings(len(paraphrase_tokenizer))\n",
    "\n",
    "max_paraphrase_input_length = 512\n",
    "def paraphrase(facts, style):\n",
    "    inputs = [\"<|fact|> \".join(facts) + \" <|style|> \" + style]\n",
    "    model_inputs = paraphrase_tokenizer(inputs, max_length=max_paraphrase_input_length, truncation=True, return_tensors='pt')\n",
    "    attention_mask = model_inputs.attention_mask.to(device)\n",
    "    input_ids = model_inputs.input_ids.to(device)\n",
    "    \n",
    "    outputs = paraphrase_model.generate(input_ids, attention_mask=attention_mask, max_length=512).to('cpu').detach()\n",
    "    output_str = paraphrase_tokenizer.batch_decode(outputs, skip_special_tokens = True)\n",
    "    return ''.join(output_str)"
   ]
  },
  {
   "cell_type": "code",
   "execution_count": 50,
   "id": "15eacf99",
   "metadata": {},
   "outputs": [
    {
     "data": {
      "text/plain": [
       "'The University of California, Merced is a public institution founded in 2005.'"
      ]
     },
     "execution_count": 50,
     "metadata": {},
     "output_type": "execute_result"
    }
   ],
   "source": [
    "\"\"\"\n",
    "Facts:\n",
    "\n",
    "['UC Merced established a satellite campus in Bakersfield, California in 2001 in its downtown University Square.', \n",
    "'The University of California opened its doors in 1869 with just 10 faculty members and 40 students.', \n",
    "'UC Merced opened Sept. 5, 2005, as the newest campus in the University of California system and the first American research university of the 21st century.', \n",
    "'The University of California, Merced is the latest addition to the University of California System.', \n",
    "'UC Merced is the 10th campus in the University of California system and the first American research university of the 21st century.',\n",
    "'University of California, Merced is a public institution that was founded in 2005.', \n",
    "'University of California Merced is a four year public college located in Merced, California.', \n",
    "'University of California Merced is a public not for profit institution.', \n",
    "'UC Merced is the first new UC campus built since 1965.', \n",
    "'Like all University of California campuses, UC Merced operates under the direction of the UC president and is governed by The Regents of the University of California, a 26 member board established under the California Constitution.'] \n",
    "\n",
    "Style:\n",
    "\n",
    "UIUC is a private institution founded in 1998.\n",
    "\n",
    "\"\"\"\n",
    "\n",
    "paraphrase(['UC Merced established a satellite campus in Bakersfield, California in 2001 in its downtown University Square.', 'The University of California opened its doors in 1869 with just 10 faculty members and 40 students.', 'UC Merced opened Sept. 5, 2005, as the newest campus in the University of California system and the first American research university of the 21st century.', 'The University of California, Merced is the latest addition to the University of California System.', 'UC Merced is the 10th campus in the University of California system and the first American research university of the 21st century.', 'University of California, Merced is a public institution that was founded in 2005.', 'University of California Merced is a four year public college located in Merced, California.', 'University of California Merced is a public not for profit institution.', 'UC Merced is the first new UC campus built since 1965.', 'Like all University of California campuses, UC Merced operates under the direction of the UC president and is governed by The Regents of the University of California, a 26 member board established under the California Constitution.'], sent)"
   ]
  }
 ],
 "metadata": {
  "kernelspec": {
   "display_name": "Python 3 (ipykernel)",
   "language": "python",
   "name": "python3"
  },
  "language_info": {
   "codemirror_mode": {
    "name": "ipython",
    "version": 3
   },
   "file_extension": ".py",
   "mimetype": "text/x-python",
   "name": "python",
   "nbconvert_exporter": "python",
   "pygments_lexer": "ipython3",
   "version": "3.8.10"
  }
 },
 "nbformat": 4,
 "nbformat_minor": 5
}
